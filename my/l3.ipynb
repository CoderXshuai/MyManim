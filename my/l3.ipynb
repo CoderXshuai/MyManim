{
 "cells": [
  {
   "cell_type": "markdown",
   "source": [
    "这部分主要是l3中对linear affine convex 三种combination的介绍，以引入两个向量为例，介绍不同条件束缚下向量的取值不同，主要是线性代数相关知识"
   ],
   "metadata": {
    "collapsed": false,
    "pycharm": {
     "name": "#%% md\n"
    }
   }
  },
  {
   "cell_type": "code",
   "execution_count": null,
   "outputs": [],
   "source": [
    "from manimlib import *"
   ],
   "metadata": {
    "collapsed": false,
    "pycharm": {
     "name": "#%%\n"
    }
   }
  },
  {
   "cell_type": "code",
   "execution_count": 1,
   "outputs": [
    {
     "ename": "NameError",
     "evalue": "name 'Scene' is not defined",
     "output_type": "error",
     "traceback": [
      "\u001B[1;31m---------------------------------------------------------------------------\u001B[0m",
      "\u001B[1;31mNameError\u001B[0m                                 Traceback (most recent call last)",
      "Cell \u001B[1;32mIn[1], line 2\u001B[0m\n\u001B[0;32m      1\u001B[0m \u001B[38;5;66;03m# LinearCombination\u001B[39;00m\n\u001B[1;32m----> 2\u001B[0m \u001B[38;5;28;01mclass\u001B[39;00m \u001B[38;5;21;01mLinearCombination\u001B[39;00m(\u001B[43mScene\u001B[49m):\n\u001B[0;32m      3\u001B[0m     \u001B[38;5;28;01mdef\u001B[39;00m \u001B[38;5;21mconstruct\u001B[39m(\u001B[38;5;28mself\u001B[39m):\n\u001B[0;32m      4\u001B[0m         \u001B[38;5;66;03m# 定义两个向量\u001B[39;00m\n\u001B[0;32m      5\u001B[0m         vectors \u001B[38;5;241m=\u001B[39m [\n\u001B[0;32m      6\u001B[0m             np\u001B[38;5;241m.\u001B[39marray([\u001B[38;5;241m2\u001B[39m, \u001B[38;5;241m1\u001B[39m]),\n\u001B[0;32m      7\u001B[0m             np\u001B[38;5;241m.\u001B[39marray([\u001B[38;5;241m1\u001B[39m, \u001B[38;5;241m2\u001B[39m]),\n\u001B[0;32m      8\u001B[0m         ]\n",
      "\u001B[1;31mNameError\u001B[0m: name 'Scene' is not defined"
     ]
    }
   ],
   "source": [
    "# LinearCombination\n",
    "class LinearCombination(Scene):\n",
    "    def construct(self):\n",
    "        # 定义两个向量\n",
    "        vectors = [\n",
    "            np.array([2, 1]),\n",
    "            np.array([1, 2]),\n",
    "        ]\n",
    "        # 公式描述内容\n",
    "        description = VGroup(\n",
    "            Text(\"linear combination\"),\n",
    "            Tex(\"x^1, \\cdots, x^k \\in \\mathbb{R}^n,\\\\alpha_1, \\cdots, \\\\alpha_k \\in \\mathbb{R},y=\\sum_{i=1}^k \\\\alpha_i x^i\"),\n",
    "        )\n",
    "        description.arrange(DOWN, buff=0.3)\n",
    "        # 向量和标识集合\n",
    "        content = VGroup(\n",
    "        )\n",
    "        # 描述信息置于最上方\n",
    "        description.to_edge(UP)\n",
    "        # 描述信息播放\n",
    "        self.play(Write(description, run_time=1))\n",
    "        # 向量和向量标识\n",
    "        temp_vec, temp_text = None, None\n",
    "        for index, v in enumerate(vectors):\n",
    "            temp_vec = Vector(\n",
    "                direction=v,\n",
    "            )\n",
    "            temp_text = Tex(f\"x{index + 1}({v[0]}, {v[1]})\", font_size=24)\n",
    "            content.add(temp_text)\n",
    "            content.add(temp_vec)\n",
    "            #设置标识内容放置地方\n",
    "            temp_text.move_to(np.hstack((v, 0)) * 1.2)\n",
    "        # 表示可取的向量示例\n",
    "        line_1 = Line(start=[0, 0, 0], end=[3, 3, 0])\n",
    "        content.add(line_1)\n",
    "        # 移动内容\n",
    "        content.shift(DL * 2)\n",
    "        content.remove(line_1)\n",
    "        # 播放\n",
    "        self.play(Write(content))\n",
    "        self.play(Write(line_1), run_time=3)\n",
    "        self.play(FadeOut(line_1))"
   ],
   "metadata": {
    "collapsed": false,
    "pycharm": {
     "name": "#%%\n"
    }
   }
  },
  {
   "cell_type": "code",
   "execution_count": null,
   "outputs": [],
   "source": [
    "# AffineCombination\n",
    "class AffineCombination(Scene):\n",
    "    def construct(self):\n",
    "        vectors = [\n",
    "            np.array([2, 1]),\n",
    "            np.array([1, 2]),\n",
    "        ]\n",
    "        # 虚线封闭区域\n",
    "        dash = DashedLine(start=(3, 0, 0), end=(0, 3, 0))\n",
    "        dash_tex = Tex(\"x_1-x_2\", font_size=24)\n",
    "        # x1-x2向量文字\n",
    "        dash_tex.rotate(PI / 4, IN)\n",
    "        dash_tex.move_to(UR * 1.7)\n",
    "        # 可取值向量示例\n",
    "        line_1 = Line(start=[0, 0, 0], end=[0.5, 2.5, 0])\n",
    "        line_2 = Line(start=[0, 0, 0], end=[1.5, 1.5, 0])\n",
    "        line_3 = Line(start=[0, 0, 0], end=[2.5, 0.5, 0])\n",
    "\n",
    "        description = VGroup(\n",
    "            Text(\"affine combination\"),\n",
    "            Tex(\"x^1, \\cdots, x^k \\in \\mathbb{R}^n,\\\\alpha_1, \\cdots, \\\\alpha_k \\in \\mathbb{R},y=\\sum_{i=1}^k \\\\alpha_i x^i, \"),\n",
    "\n",
    "        )\n",
    "        description.arrange(DOWN, buff=0.3)\n",
    "        content = VGroup(\n",
    "\n",
    "        )\n",
    "        description.to_edge(UP)\n",
    "        self.add(description)\n",
    "        temp_vec, temp_text = None, None\n",
    "        for index, v in enumerate(vectors):\n",
    "            temp_vec = Vector(\n",
    "                direction=v,\n",
    "            )\n",
    "            temp_text = Tex(f\"x_{index + 1}({v[0]}, {v[1]})\", font_size=24)\n",
    "            content.add(temp_text)\n",
    "            content.add(temp_vec)\n",
    "            temp_text.move_to(np.hstack((v, 0)) * 1.2)\n",
    "        content.add(dash)\n",
    "        content.add(dash_tex)\n",
    "        content.add(line_1)\n",
    "        content.add(line_2)\n",
    "        content.add(line_3)\n",
    "        content.shift(DL * 3)\n",
    "        content.shift(LEFT * 3)\n",
    "        content.shift(UP)\n",
    "        content.remove(line_1)\n",
    "        content.remove(line_2)\n",
    "        content.remove(line_3)\n",
    "        condition = Tex(\"\\sum_{i=1}^k \\\\alpha_i=1\")\n",
    "        change = VGroup(\n",
    "            Tex(\"y=\\\\alpha_1 x_1+\\left(1-\\\\alpha_1\\\\right) x_2\"),\n",
    "            Tex(\"y=\\\\alpha_1\\left(x_1-x_2\\\\right)+x_2\"),\n",
    "        )\n",
    "        condition.next_to(description, aligned_edge=DOWN)\n",
    "        change.next_to(description, direction=DOWN)\n",
    "        change.arrange(DOWN, buff=0.3)\n",
    "        self.play(Write(condition))\n",
    "        self.play(Write(change))\n",
    "        self.play(Write(content))\n",
    "        self.play(Write(line_1), run_time=3)\n",
    "        self.play(FadeOut(line_1))\n",
    "        self.play(Write(line_2), run_time=3)\n",
    "        self.play(FadeOut(line_2))\n",
    "        self.play(Write(line_3), run_time=3)\n",
    "        self.play(FadeOut(line_3))"
   ],
   "metadata": {
    "collapsed": false,
    "pycharm": {
     "name": "#%%\n"
    }
   }
  },
  {
   "cell_type": "code",
   "execution_count": null,
   "outputs": [],
   "source": [
    "# ConvexCombination\n",
    "class ConvexCombination(Scene):\n",
    "    def construct(self):\n",
    "        vectors = [\n",
    "            np.array([2, 1]),\n",
    "            np.array([1, 2]),\n",
    "        ]\n",
    "        # 虚线封闭区域\n",
    "        dash = DashedLine(start=(3, 0, 0), end=(0, 3, 0))\n",
    "        dash_tex = Tex(\"x_1-x_2\", font_size=24)\n",
    "        # x1-x2向量文字\n",
    "        dash_tex.rotate(PI / 4, IN)\n",
    "        dash_tex.move_to(UR * 1.7)\n",
    "        # 可取值向量示例\n",
    "        line_1 = Line(start=[0, 0, 0], end=[1.5, 1.5, 0])\n",
    "        description = VGroup(\n",
    "            Text(\"convex combination\"),\n",
    "            Tex(\"x^1, \\cdots, x^k \\in \\mathbb{R}^n,y=\\sum_{i=1}^k \\\\alpha_i x^i, \\\\alpha_1, \\cdots, \\\\alpha_k \\geqslant 0,\\sum_{i=1}^k \\\\alpha_i=1\"),\n",
    "\n",
    "        )\n",
    "        description.arrange(DOWN, buff=0.3)\n",
    "        content = VGroup(\n",
    "\n",
    "        )\n",
    "        description.to_edge(UP)\n",
    "        self.add(description)\n",
    "        temp_vec, temp_text = None, None\n",
    "        for index, v in enumerate(vectors):\n",
    "            temp_vec = Vector(\n",
    "                direction=v,\n",
    "            )\n",
    "            temp_text = Tex(f\"x_{index + 1}({v[0]}, {v[1]})\", font_size=24)\n",
    "            content.add(temp_text)\n",
    "            content.add(temp_vec)\n",
    "            temp_text.move_to(np.hstack((v, 0)) * 1.2)\n",
    "        content.add(dash)\n",
    "        content.add(dash_tex)\n",
    "        content.add(line_1)\n",
    "        content.shift(DL * 3)\n",
    "        content.shift(LEFT * 3)\n",
    "        content.shift(UP)\n",
    "        content.remove(line_1)\n",
    "        # condition = Tex(\"\")\n",
    "        change = VGroup(\n",
    "            Tex(\"y=\\\\alpha_1 x_1+\\left(1-\\\\alpha_1\\\\right) x_2\"),\n",
    "            Tex(\"y=\\\\alpha_1\\left(x_1-x_2\\\\right)+x_2\"),\n",
    "        )\n",
    "        # condition.next_to(description, aligned_edge=DOWN)\n",
    "        change.next_to(description, direction=DOWN)\n",
    "        change.arrange(DOWN, buff=0.3)\n",
    "        # self.play(Write(condition))\n",
    "        self.play(Write(change))\n",
    "        self.play(Write(content))\n",
    "        self.play(Write(line_1), run_time=3)\n",
    "        self.play(FadeOut(line_1))"
   ],
   "metadata": {
    "collapsed": false,
    "pycharm": {
     "name": "#%%\n"
    }
   }
  },
  {
   "cell_type": "code",
   "execution_count": null,
   "outputs": [],
   "source": [
    "# n=2时 Non-negative Orthant example\n",
    "class NonNegativeOrthant(Scene):\n",
    "    def construct(self):\n",
    "        # 创建标题\n",
    "        text = Text(\"Non-negative Orthant\")\n",
    "        text.to_edge(UP)\n",
    "        self.add(text)\n",
    "        # 创建坐标轴并设置参数\n",
    "        axes = Axes(\n",
    "            x_range=[0, 6],\n",
    "            y_range=[0, 6],\n",
    "            x_length=8,\n",
    "            y_length=8,\n",
    "            axis_config={\n",
    "                \"numbers_to_include\": range(6),\n",
    "                \"color\": WHITE,\n",
    "                \"stroke_width\": 2,\n",
    "                \"decimal_number_config\": {\"num_decimal_places\": 0},\n",
    "            },\n",
    "            x_axis_config={\"numbers_with_elongated_ticks\": range(6)},\n",
    "            y_axis_config={\"numbers_with_elongated_ticks\": range(6)},\n",
    "        )\n",
    "        # 播放坐标轴\n",
    "        self.play(Write(axes))\n",
    "        # 创建非负半轴\n",
    "        orthant = Polygon(\n",
    "            axes.c2p(0, 0),\n",
    "            axes.c2p(0, 6),\n",
    "            axes.c2p(6, 6),\n",
    "            axes.c2p(6, 0),\n",
    "            stroke_color=None,\n",
    "            stroke_width=None,\n",
    "            fill_color=RED,\n",
    "            fill_opacity=0.2,\n",
    "            stroke_opacity=0.8,\n",
    "        )\n",
    "        content = VGroup()\n",
    "        content.add(axes, orthant)\n",
    "        content.next_to(text, direction=DOWN)\n",
    "        # 播放非负半轴\n",
    "        self.add(orthant)\n",
    "        tex = Tex(r\"\\mathbb{R}_{+}^n=\\left\\{x \\in \\mathbb{R}^n: x_i \\geqslant 0 \\right\\}\")\n",
    "        word = Text(\"R=2\")\n",
    "        word.next_to(tex, direction=DOWN)\n",
    "        # tex和word渲染\n",
    "        self.play(Write(tex))\n",
    "        self.play(Write(word))"
   ],
   "metadata": {
    "collapsed": false,
    "pycharm": {
     "name": "#%%\n"
    }
   }
  }
 ],
 "metadata": {
  "kernelspec": {
   "display_name": "Python 3",
   "language": "python",
   "name": "python3"
  },
  "language_info": {
   "codemirror_mode": {
    "name": "ipython",
    "version": 2
   },
   "file_extension": ".py",
   "mimetype": "text/x-python",
   "name": "python",
   "nbconvert_exporter": "python",
   "pygments_lexer": "ipython2",
   "version": "2.7.6"
  }
 },
 "nbformat": 4,
 "nbformat_minor": 0
}